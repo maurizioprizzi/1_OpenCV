{
 "cells": [
  {
   "cell_type": "code",
   "execution_count": 14,
   "id": "7ea6ca9a-fd05-4570-845e-953502addb28",
   "metadata": {},
   "outputs": [],
   "source": [
    "# Importando a biblioteca NumPy para manipulação de arrays e a biblioteca OpenCV para processamento de imagens e vídeo.\n",
    "import numpy as np\n",
    "import cv2"
   ]
  },
  {
   "cell_type": "code",
   "execution_count": 15,
   "id": "97c2bdb2-9769-4930-8854-97d2bc6391df",
   "metadata": {},
   "outputs": [],
   "source": [
    "# Carrega a imagem 'friends.jpg' do diretório './data' usando a função imread() do OpenCV.\n",
    "img = cv2.imread('./data/friends.jpg')\n",
    "\n",
    "# Exibe a imagem carregada em uma janela com o título 'image'.\n",
    "cv2.imshow('image', img)\n",
    "\n",
    "# Espera indefinidamente até que uma tecla seja pressionada, para permitir visualização da imagem.\n",
    "cv2.waitKey(0)\n",
    "\n",
    "# Fecha todas as janelas de exibição de imagens abertas pelo OpenCV.\n",
    "cv2.destroyAllWindows()"
   ]
  },
  {
   "cell_type": "code",
   "execution_count": 16,
   "id": "4d24fd80-32c8-4542-9252-2b14b038a719",
   "metadata": {},
   "outputs": [],
   "source": [
    "# Carrega o classificador Haar Cascade para detecção de faces, utilizando o arquivo XML correspondente.\n",
    "haar = cv2.CascadeClassifier('./data/haarcascade_frontalface_default.xml')"
   ]
  },
  {
   "cell_type": "code",
   "execution_count": 17,
   "id": "595460a9-d246-4ec5-8172-013064fa4b9c",
   "metadata": {},
   "outputs": [],
   "source": [
    "# Faz uma cópia da imagem original para não modificar a imagem original.\n",
    "image = img.copy()\n",
    "\n",
    "# 1 - Converte a imagem copiada para escala de cinza, o que é necessário para o classificador Haar.\n",
    "gray = cv2.cvtColor(image, cv2.COLOR_BGR2GRAY)\n",
    "\n",
    "# 2 - Aplica a imagem em escala de cinza ao classificador Haar, detectando possíveis regiões de rosto.\n",
    "# O método detectMultiScale retorna as coordenadas dos retângulos que delimitam os rostos.\n",
    "face_rect = haar.detectMultiScale(gray, 1.3, 5)\n",
    "\n",
    "# 3 - Desenha um retângulo verde ao redor de cada rosto detectado.\n",
    "# O laço for percorre as coordenadas de cada rosto detectado e desenha o retângulo.\n",
    "for x, y, w, h in face_rect:\n",
    "    cv2.rectangle(image, (x, y), (x+w, y+h), (0, 255, 0), 2)  # (x, y) é o ponto superior esquerdo, (x+w, y+h) é o ponto inferior direito\n",
    "\n",
    "# Exibe a imagem com os rostos detectados e delimitados em uma nova janela chamada 'detected'.\n",
    "cv2.imshow('detected', image)\n",
    "\n",
    "# Espera indefinidamente até que uma tecla seja pressionada.\n",
    "cv2.waitKey(0)\n",
    "\n",
    "# Fecha todas as janelas abertas pelo OpenCV.\n",
    "cv2.destroyAllWindows()"
   ]
  },
  {
   "cell_type": "code",
   "execution_count": 6,
   "id": "f4bddd62-0dc1-43f2-b56d-bbe6d73547b7",
   "metadata": {},
   "outputs": [
    {
     "name": "stdout",
     "output_type": "stream",
     "text": [
      "[[149 259  30  30]\n",
      " [126   4  68  68]\n",
      " [128 107  96  96]\n",
      " [255  90  95  95]\n",
      " [407  92  95  95]]\n"
     ]
    }
   ],
   "source": [
    "print(face_rect)"
   ]
  },
  {
   "cell_type": "code",
   "execution_count": 18,
   "id": "132729df-4bef-4b46-824d-b333c339541f",
   "metadata": {},
   "outputs": [],
   "source": [
    "# Inicia a captura de um vídeo do arquivo 'video.mp4' no diretório './data'.\n",
    "cap = cv2.VideoCapture('./data/video.mp4')\n",
    "\n",
    "# Laço while para processar frame a frame do vídeo até que ele termine.\n",
    "while True:\n",
    "    # Lê um frame do vídeo.\n",
    "    ret, frame = cap.read()\n",
    "\n",
    "    # Se não houver mais frames, ret será False e o laço será encerrado.\n",
    "    if ret == False:\n",
    "        break\n",
    "\n",
    "    # Faz uma cópia do frame atual para preservá-lo.\n",
    "    movie = frame.copy()\n",
    "\n",
    "    # 1 - Converte o frame copiado para escala de cinza para detecção de rosto.\n",
    "    gray = cv2.cvtColor(movie, cv2.COLOR_BGR2GRAY)\n",
    "\n",
    "    # 2 - Aplica a imagem em escala de cinza ao classificador Haar para detectar rostos no frame atual.\n",
    "    face_rect = haar.detectMultiScale(gray, 1.3, 5)\n",
    "\n",
    "    # 3 - Desenha um retângulo verde ao redor de cada rosto detectado no frame atual.\n",
    "    for x, y, w, h in face_rect:\n",
    "        cv2.rectangle(movie, (x, y), (x+w, y+h), (0, 255, 0), 2)  # (x, y) é o ponto superior esquerdo, (x+w, y+h) é o ponto inferior direito\n",
    "\n",
    "    # Exibe o frame processado com a detecção de rostos na janela 'face detection'.\n",
    "    cv2.imshow('face detection', movie)\n",
    "\n",
    "    # Se a tecla 'Esc' (código 27) for pressionada, o laço é encerrado.\n",
    "    if cv2.waitKey(10) == 27:\n",
    "        break\n",
    "\n",
    "# Libera o objeto de captura de vídeo e fecha todas as janelas abertas.\n",
    "cap.release()\n",
    "cv2.destroyAllWindows()"
   ]
  },
  {
   "cell_type": "code",
   "execution_count": null,
   "id": "4da736ae-0e7e-4b28-80b0-d5efc11bde4e",
   "metadata": {},
   "outputs": [],
   "source": []
  }
 ],
 "metadata": {
  "kernelspec": {
   "display_name": "Python 3 (ipykernel)",
   "language": "python",
   "name": "python3"
  },
  "language_info": {
   "codemirror_mode": {
    "name": "ipython",
    "version": 3
   },
   "file_extension": ".py",
   "mimetype": "text/x-python",
   "name": "python",
   "nbconvert_exporter": "python",
   "pygments_lexer": "ipython3",
   "version": "3.11.9"
  }
 },
 "nbformat": 4,
 "nbformat_minor": 5
}
