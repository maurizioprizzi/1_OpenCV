{
 "cells": [
  {
   "cell_type": "code",
   "execution_count": 1,
   "id": "7ea6ca9a-fd05-4570-845e-953502addb28",
   "metadata": {},
   "outputs": [],
   "source": [
    "import numpy as np\n",
    "import cv2"
   ]
  },
  {
   "cell_type": "code",
   "execution_count": 3,
   "id": "97c2bdb2-9769-4930-8854-97d2bc6391df",
   "metadata": {},
   "outputs": [],
   "source": [
    "img = cv2.imread('./data/friends.jpg')\n",
    "cv2.imshow('image', img)\n",
    "cv2.waitKey(0)\n",
    "cv2.destroyAllWindows()"
   ]
  },
  {
   "cell_type": "code",
   "execution_count": 4,
   "id": "4d24fd80-32c8-4542-9252-2b14b038a719",
   "metadata": {},
   "outputs": [],
   "source": [
    "haar = cv2.CascadeClassifier('./data/haarcascade_frontalface_default.xml')"
   ]
  },
  {
   "cell_type": "code",
   "execution_count": 8,
   "id": "595460a9-d246-4ec5-8172-013064fa4b9c",
   "metadata": {},
   "outputs": [],
   "source": [
    "image = img.copy()\n",
    "\n",
    "# 1 - convert to gray\n",
    "gray = cv2.cvtColor(image, cv2.COLOR_BGR2GRAY)\n",
    "\n",
    "# 2 - apply grayscale image to cascade classifier\n",
    "face_rect = haar.detectMultiScale(gray, 1.3, 5)\n",
    "\n",
    "# 3 - draw bounding box\n",
    "for x, y, w, h in face_rect:\n",
    "    cv2.rectangle(image, (x, y), (x+w, y+h), (0, 255, 0), 2)\n",
    "\n",
    "cv2.imshow('detected', image)\n",
    "cv2.waitKey(0)\n",
    "cv2.destroyAllWindows()"
   ]
  },
  {
   "cell_type": "code",
   "execution_count": 6,
   "id": "f4bddd62-0dc1-43f2-b56d-bbe6d73547b7",
   "metadata": {},
   "outputs": [
    {
     "name": "stdout",
     "output_type": "stream",
     "text": [
      "[[149 259  30  30]\n",
      " [126   4  68  68]\n",
      " [128 107  96  96]\n",
      " [255  90  95  95]\n",
      " [407  92  95  95]]\n"
     ]
    }
   ],
   "source": [
    "print(face_rect)"
   ]
  },
  {
   "cell_type": "code",
   "execution_count": 13,
   "id": "132729df-4bef-4b46-824d-b333c339541f",
   "metadata": {},
   "outputs": [],
   "source": [
    "# Real time face detection\n",
    "\n",
    "cap = cv2.VideoCapture('./data/video.mp4')\n",
    "\n",
    "while True:\n",
    "    ret, frame = cap.read()\n",
    "    if ret == False:\n",
    "        break\n",
    "\n",
    "    movie = frame.copy()\n",
    "\n",
    "    # 1 - convert to gray\n",
    "    gray = cv2.cvtColor(movie, cv2.COLOR_BGR2GRAY)\n",
    "\n",
    "    # 2 - apply grayscale image to cascade classifier\n",
    "    face_rect = haar.detectMultiScale(gray, 1.3, 5)\n",
    "\n",
    "    # 3 - draw bounding box\n",
    "    for x, y, w, h in face_rect:\n",
    "        cv2.rectangle(movie, (x, y), (x+w, y+h), (0, 255, 0), 2)\n",
    "    \n",
    "    cv2.imshow('face detection', movie)\n",
    "\n",
    "    if cv2.waitKey(10) == 27:\n",
    "        break\n",
    "\n",
    "cap.release()\n",
    "cv2.destroyAllWindows()"
   ]
  },
  {
   "cell_type": "code",
   "execution_count": null,
   "id": "4da736ae-0e7e-4b28-80b0-d5efc11bde4e",
   "metadata": {},
   "outputs": [],
   "source": []
  }
 ],
 "metadata": {
  "kernelspec": {
   "display_name": "Python 3 (ipykernel)",
   "language": "python",
   "name": "python3"
  },
  "language_info": {
   "codemirror_mode": {
    "name": "ipython",
    "version": 3
   },
   "file_extension": ".py",
   "mimetype": "text/x-python",
   "name": "python",
   "nbconvert_exporter": "python",
   "pygments_lexer": "ipython3",
   "version": "3.11.9"
  }
 },
 "nbformat": 4,
 "nbformat_minor": 5
}
