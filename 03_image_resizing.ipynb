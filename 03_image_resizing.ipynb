{
 "cells": [
  {
   "cell_type": "code",
   "execution_count": 1,
   "id": "f07193ff-f893-4d4e-b345-8dc14ea3938e",
   "metadata": {},
   "outputs": [],
   "source": [
    "import numpy as np\n",
    "import cv2"
   ]
  },
  {
   "cell_type": "code",
   "execution_count": 4,
   "id": "02eadf01-cb7d-4a63-809b-3a5006e48d21",
   "metadata": {},
   "outputs": [
    {
     "name": "stdout",
     "output_type": "stream",
     "text": [
      "(480, 640, 3)\n"
     ]
    }
   ],
   "source": [
    "# loading image\n",
    "img = cv2.imread('./data/flying_bird.jpg')\n",
    "\n",
    "print(img.shape)\n",
    "cv2.imshow('original', img)\n",
    "cv2.waitKey(0)\n",
    "cv2.destroyAllWindows()"
   ]
  },
  {
   "cell_type": "code",
   "execution_count": 5,
   "id": "94cbcb8a-4768-4c02-8d18-d1f342e14f3d",
   "metadata": {},
   "outputs": [],
   "source": [
    "# shrink the image\n",
    "img_shrink = cv2.resize(img, dsize=(320, 240), interpolation = cv2.INTER_AREA)\n",
    "\n",
    "# enlarge the image\n",
    "img_zoom = cv2.resize(img, dsize=(1280, 960), interpolation = cv2.INTER_CUBIC)"
   ]
  },
  {
   "cell_type": "code",
   "execution_count": 6,
   "id": "7904fb0f-15bb-4d90-91b5-11333c77ccef",
   "metadata": {},
   "outputs": [
    {
     "data": {
      "text/plain": [
       "((240, 320, 3), (960, 1280, 3))"
      ]
     },
     "execution_count": 6,
     "metadata": {},
     "output_type": "execute_result"
    }
   ],
   "source": [
    "img_shrink.shape, img_zoom.shape"
   ]
  },
  {
   "cell_type": "code",
   "execution_count": 8,
   "id": "64f0440d-b33c-4011-ac07-9299a956d566",
   "metadata": {},
   "outputs": [],
   "source": [
    "cv2.imshow('original', img)\n",
    "cv2.imshow('shrink', img_shrink)\n",
    "cv2.imshow('zoom', img_zoom)\n",
    "cv2.waitKey(0)\n",
    "cv2.destroyAllWindows()"
   ]
  },
  {
   "cell_type": "code",
   "execution_count": null,
   "id": "33797cc7-479c-4476-8be3-32e93c555cc1",
   "metadata": {},
   "outputs": [],
   "source": []
  }
 ],
 "metadata": {
  "kernelspec": {
   "display_name": "Python 3 (ipykernel)",
   "language": "python",
   "name": "python3"
  },
  "language_info": {
   "codemirror_mode": {
    "name": "ipython",
    "version": 3
   },
   "file_extension": ".py",
   "mimetype": "text/x-python",
   "name": "python",
   "nbconvert_exporter": "python",
   "pygments_lexer": "ipython3",
   "version": "3.11.9"
  }
 },
 "nbformat": 4,
 "nbformat_minor": 5
}
