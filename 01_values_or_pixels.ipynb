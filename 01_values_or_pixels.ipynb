{
 "cells": [
  {
   "cell_type": "code",
   "execution_count": 1,
   "id": "b98359cc-3c54-43e3-b892-af846ac76c97",
   "metadata": {},
   "outputs": [],
   "source": [
    "import numpy as np\n",
    "import matplotlib.pyplot as plt"
   ]
  },
  {
   "cell_type": "code",
   "execution_count": 2,
   "id": "e6e435e1-f6ff-420a-a7a5-92f773059f81",
   "metadata": {},
   "outputs": [
    {
     "name": "stdout",
     "output_type": "stream",
     "text": [
      "[  0   1   2   3   4   5   6   7   8   9  10  11  12  13  14  15  16  17\n",
      "  18  19  20  21  22  23  24  25  26  27  28  29  30  31  32  33  34  35\n",
      "  36  37  38  39  40  41  42  43  44  45  46  47  48  49  50  51  52  53\n",
      "  54  55  56  57  58  59  60  61  62  63  64  65  66  67  68  69  70  71\n",
      "  72  73  74  75  76  77  78  79  80  81  82  83  84  85  86  87  88  89\n",
      "  90  91  92  93  94  95  96  97  98  99 100 101 102 103 104 105 106 107\n",
      " 108 109 110 111 112 113 114 115 116 117 118 119 120 121 122 123 124 125\n",
      " 126 127 128 129 130 131 132 133 134 135 136 137 138 139 140 141 142 143\n",
      " 144 145 146 147 148 149 150 151 152 153 154 155 156 157 158 159 160 161\n",
      " 162 163 164 165 166 167 168 169 170 171 172 173 174 175 176 177 178 179\n",
      " 180 181 182 183 184 185 186 187 188 189 190 191 192 193 194 195 196 197\n",
      " 198 199 200 201 202 203 204 205 206 207 208 209 210 211 212 213 214 215\n",
      " 216 217 218 219 220 221 222 223 224 225 226 227 228 229 230 231 232 233\n",
      " 234 235 236 237 238 239 240 241 242 243 244 245 246 247 248 249 250 251\n",
      " 252 253 254 255]\n"
     ]
    }
   ],
   "source": [
    "arr = np.arange(0, 256, 1)\n",
    "print(arr)"
   ]
  },
  {
   "cell_type": "code",
   "execution_count": 3,
   "id": "6265d8a2-5f10-4e7b-881d-7eefcb9ab740",
   "metadata": {},
   "outputs": [
    {
     "name": "stdout",
     "output_type": "stream",
     "text": [
      "[[  0   1   2   3   4   5   6   7   8   9  10  11  12  13  14  15]\n",
      " [ 16  17  18  19  20  21  22  23  24  25  26  27  28  29  30  31]\n",
      " [ 32  33  34  35  36  37  38  39  40  41  42  43  44  45  46  47]\n",
      " [ 48  49  50  51  52  53  54  55  56  57  58  59  60  61  62  63]\n",
      " [ 64  65  66  67  68  69  70  71  72  73  74  75  76  77  78  79]\n",
      " [ 80  81  82  83  84  85  86  87  88  89  90  91  92  93  94  95]\n",
      " [ 96  97  98  99 100 101 102 103 104 105 106 107 108 109 110 111]\n",
      " [112 113 114 115 116 117 118 119 120 121 122 123 124 125 126 127]\n",
      " [128 129 130 131 132 133 134 135 136 137 138 139 140 141 142 143]\n",
      " [144 145 146 147 148 149 150 151 152 153 154 155 156 157 158 159]\n",
      " [160 161 162 163 164 165 166 167 168 169 170 171 172 173 174 175]\n",
      " [176 177 178 179 180 181 182 183 184 185 186 187 188 189 190 191]\n",
      " [192 193 194 195 196 197 198 199 200 201 202 203 204 205 206 207]\n",
      " [208 209 210 211 212 213 214 215 216 217 218 219 220 221 222 223]\n",
      " [224 225 226 227 228 229 230 231 232 233 234 235 236 237 238 239]\n",
      " [240 241 242 243 244 245 246 247 248 249 250 251 252 253 254 255]]\n"
     ]
    }
   ],
   "source": [
    "arr = arr.reshape((16,16))\n",
    "print(arr)"
   ]
  },
  {
   "cell_type": "code",
   "execution_count": 4,
   "id": "0a04980d-fca9-4fba-b4b8-9cd938c36325",
   "metadata": {},
   "outputs": [],
   "source": [
    "arr_8bit = arr.astype(np.uint8)"
   ]
  },
  {
   "cell_type": "code",
   "execution_count": 5,
   "id": "ede12099-a9aa-4685-80ab-1a2257da8c89",
   "metadata": {},
   "outputs": [
    {
     "data": {
      "image/png": "[encoded data removed]",
      "text/plain": [
       "<Figure size 640x480 with 1 Axes>"
      ]
     },
     "metadata": {},
     "output_type": "display_data"
    }
   ],
   "source": [
    "plt.imshow(arr_8bit, cmap='gray')\n",
    "plt.axis('off')\n",
    "plt.show()"
   ]
  },
  {
   "cell_type": "code",
   "execution_count": 6,
   "id": "d8335128-87dc-43b8-8e77-c48f1dbc2a53",
   "metadata": {},
   "outputs": [
    {
     "data": {
      "image/png": "[encoded data removed]",
      "text/plain": [
       "<Figure size 640x480 with 1 Axes>"
      ]
     },
     "metadata": {},
     "output_type": "display_data"
    }
   ],
   "source": [
    "arr1 = np.random.randint(low=0, high=255, size=(16,16), dtype=np.uint8)\n",
    "plt.imshow(arr1, cmap='gray')\n",
    "plt.axis('off')\n",
    "plt.show()"
   ]
  },
  {
   "cell_type": "code",
   "execution_count": 7,
   "id": "7b2533d7-f1ce-4134-89d6-f82c8692e39c",
   "metadata": {},
   "outputs": [
    {
     "data": {
      "text/plain": [
       "array([[189,  38, 192, 221, 135, 220, 162,  27, 141, 171,   4,  33,  51,\n",
       "         62,  11,  17],\n",
       "       [ 55,  45, 191,   7, 106, 171,  37, 151, 228, 220, 141,   2, 118,\n",
       "         86,  21,  20],\n",
       "       [249,   9, 179, 125, 109, 181, 106, 147,  49, 246, 151, 217, 187,\n",
       "        109, 235, 180],\n",
       "       [ 99,  90, 250,  12, 240, 151, 155,  54, 153, 133,  83,  38, 242,\n",
       "        219, 133, 145],\n",
       "       [128,  14, 169, 192, 136,  54,  35,   7, 160, 196,  80, 224, 203,\n",
       "         35, 237,  17],\n",
       "       [234,  85,  99, 142, 149,  67, 107, 127, 200,  58, 204, 144, 205,\n",
       "        128, 250, 219],\n",
       "       [162, 234, 139, 145, 193,  46,  36, 128,  11, 224, 197, 240, 252,\n",
       "         79,  15, 121],\n",
       "       [138,  85, 158,  16, 237, 175, 107, 136,  30,  34, 204,  91, 186,\n",
       "        216, 100,   6],\n",
       "       [219, 240, 165, 229, 135,  50,  29, 165,  30,  53, 247, 222,  14,\n",
       "        217,  22, 249],\n",
       "       [  1, 111, 134, 128,  65, 156,  19,   6,  52,  20,  86, 148,  41,\n",
       "        175,  78,  80],\n",
       "       [ 19, 216, 129, 230,  25, 209, 223, 216,  58, 104,  76, 131, 172,\n",
       "        143, 134, 113],\n",
       "       [209, 115,  85,  40, 190, 214, 188, 189,  17, 192, 250,  52, 205,\n",
       "        251,  16, 198],\n",
       "       [ 94, 205, 136, 188,  97, 185, 102, 216, 143,  76,  50,  62, 165,\n",
       "        107, 124, 147],\n",
       "       [ 52, 230, 184, 110, 206, 245, 104,   5,  51,  80, 237,  59, 206,\n",
       "        110,  21,  61],\n",
       "       [227,  85,  63, 204,  95, 142, 123, 216,  71,  34,  26, 176, 196,\n",
       "          9,  51, 163],\n",
       "       [230, 139, 229, 214, 196,  86, 230,  52, 222,  27,  86, 127, 122,\n",
       "        220, 174,   3]], dtype=uint8)"
      ]
     },
     "execution_count": 7,
     "metadata": {},
     "output_type": "execute_result"
    }
   ],
   "source": [
    "arr1"
   ]
  },
  {
   "cell_type": "code",
   "execution_count": null,
   "id": "6fbf7192-34ec-4137-a550-3f203de592df",
   "metadata": {},
   "outputs": [],
   "source": []
  }
 ],
 "metadata": {
  "kernelspec": {
   "display_name": "Python 3 (ipykernel)",
   "language": "python",
   "name": "python3"
  },
  "language_info": {
   "codemirror_mode": {
    "name": "ipython",
    "version": 3
   },
   "file_extension": ".py",
   "mimetype": "text/x-python",
   "name": "python",
   "nbconvert_exporter": "python",
   "pygments_lexer": "ipython3",
   "version": "3.11.9"
  }
 },
 "nbformat": 4,
 "nbformat_minor": 5
}
